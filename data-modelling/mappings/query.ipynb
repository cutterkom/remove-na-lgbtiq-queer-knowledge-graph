{
 "cells": [
  {
   "cell_type": "code",
   "execution_count": 19,
   "metadata": {},
   "outputs": [
    {
     "name": "stdout",
     "output_type": "stream",
     "text": [
      "[a rdfg:Graph;rdflib:storage [a rdflib:Store;rdfs:label 'Memory']].\n"
     ]
    },
    {
     "data": {
      "text/plain": [
       "<Graph identifier=N62cd53bccf0f4ed9ba24614285ca1b66 (<class 'rdflib.graph.Graph'>)>"
      ]
     },
     "execution_count": 19,
     "metadata": {},
     "output_type": "execute_result"
    }
   ],
   "source": [
    "from icecream import ic\n",
    "import rdflib\n",
    "import os\n",
    "\n",
    "\n",
    "ttl_text = \"\"\"\n",
    "@prefix schema: <https://schema.org/> .\n",
    "\n",
    "<http://example.com/996> a schema:Book ;\n",
    "    schema:BookSeries \"Lebensgeschichten Schwules Museum\" ;\n",
    "    schema:datePublished \"1994\" ;\n",
    "    schema:editor \"Andreas Sternweiler\" ;\n",
    "    schema:isbn \"3861490307\" ;\n",
    "    schema:location \"Berlin\" ;\n",
    "    schema:name \"Und alles wegen der Jungs\" ;\n",
    "    schema:publisher \"rosa Winkel\" .\n",
    "\n",
    "<http://example.com/997> a schema:Book ;\n",
    "    schema:author \"Gay Guide Redaktionsteam\" ;\n",
    "    schema:datePublished \"1982\" ;\n",
    "    schema:isbn \"3922257259\" ;\n",
    "    schema:location \"Frankfurt a.M.\" ;\n",
    "    schema:name \"Gay Guide Reiseführer 1982\" ;\n",
    "    schema:publisher \"Foerster\" .\n",
    "\n",
    "<http://example.com/998> a schema:Book ;\n",
    "    schema:author \"Benny Ziffer\" ;\n",
    "    schema:datePublished \"2009\" ;\n",
    "    schema:isbn \"9783939542391\" ;\n",
    "    schema:location \"Hamburg\" ;\n",
    "    schema:name \"Ziffer und die Seinen\" ;\n",
    "    schema:publisher \"Männerschwarm\" .\n",
    "\n",
    "<http://example.com/999> a schema:Book ;\n",
    "    schema:datePublished \"1993\" ;\n",
    "    schema:editor \"Margaret Reynolds\" ;\n",
    "    schema:isbn \"9780670851539\" ;\n",
    "    schema:location \"Harmondsworth; u.a.\" ;\n",
    "    schema:name \"The Penguin Book of Lesbian Short Stories\" ;\n",
    "    schema:publisher \"Viking\" .\n",
    "\"\"\"\n",
    "\n",
    "g = rdflib.Graph()\n",
    "print(g)\n",
    "#g.parse(data=os.path.join(os.getcwd(), \"/rdf-from-yamrrrl.ttl\"), format=\"ttl\")\n",
    "g.parse(data=ttl_text, format=\"ttl\")"
   ]
  },
  {
   "cell_type": "code",
   "execution_count": 20,
   "metadata": {},
   "outputs": [],
   "source": []
  },
  {
   "cell_type": "code",
   "execution_count": 24,
   "metadata": {},
   "outputs": [],
   "source": [
    "for row in g.query(sparql):\n",
    "    print(row.asdict())"
   ]
  },
  {
   "cell_type": "code",
   "execution_count": 25,
   "metadata": {},
   "outputs": [
    {
     "data": {
      "text/plain": [
       "<kglab.kglab.KnowledgeGraph at 0x108ec83a0>"
      ]
     },
     "execution_count": 25,
     "metadata": {},
     "output_type": "execute_result"
    }
   ],
   "source": [
    "import kglab\n",
    "\n",
    "namespaces = {\n",
    "    \"schema\":  \"http://schema.org/#\"\n",
    "    }\n",
    "\n",
    "kg = kglab.KnowledgeGraph(\n",
    "    name = \"A recipe KG example based on Food.com\",\n",
    "    base_uri = \"\",\n",
    "    namespaces = namespaces,\n",
    "    )\n",
    "\n",
    "kg.load_rdf(\"rdf-from-yamrrrl.ttl\")"
   ]
  },
  {
   "cell_type": "code",
   "execution_count": 70,
   "metadata": {},
   "outputs": [],
   "source": [
    "sparql = \"\"\"\n",
    "    SELECT ?author\n",
    "    WHERE {\n",
    "        ?author schema:author ?author .\n",
    "    }\n",
    "    ORDER BY DESC(?author)\n",
    "\"\"\""
   ]
  },
  {
   "cell_type": "code",
   "execution_count": 72,
   "metadata": {},
   "outputs": [],
   "source": [
    "sparql = \"\"\"\n",
    "    SELECT ?author ?name ?isbn\n",
    "    WHERE {\n",
    "        ?author schema:author \"Rita Mae Brown\" .\n",
    "        ?na schema:name ?name .\n",
    "    }\n",
    "    ORDER BY DESC(?author)\n",
    "\"\"\""
   ]
  },
  {
   "cell_type": "code",
   "execution_count": 73,
   "metadata": {},
   "outputs": [
    {
     "name": "stdout",
     "output_type": "stream",
     "text": [
      "                          author                                       name\n",
      "0       <http://example.com/444>                                    Nummern\n",
      "1       <http://example.com/444>                                 Trau!mfrau\n",
      "2       <http://example.com/444>                David steigt aufs Riesenrad\n",
      "3       <http://example.com/444>                David steigt aufs Riesenrad\n",
      "4       <http://example.com/444>                                       Neon\n",
      "...                          ...                                        ...\n",
      "67243  <http://example.com/1094>                    Bundesversorgungsgesetz\n",
      "67244  <http://example.com/1094>                  Und alles wegen der Jungs\n",
      "67245  <http://example.com/1094>                 Gay Guide Reiseführer 1982\n",
      "67246  <http://example.com/1094>                      Ziffer und die Seinen\n",
      "67247  <http://example.com/1094>  The Penguin Book of Lesbian Short Stories\n",
      "\n",
      "[67248 rows x 2 columns]\n"
     ]
    }
   ],
   "source": [
    "import pandas as pd\n",
    "#pd.set_option(\"max_rows\", None)\n",
    "\n",
    "df = kg.query_as_df(sparql)\n",
    "df.head(20)\n",
    "print(df)"
   ]
  },
  {
   "cell_type": "code",
   "execution_count": 69,
   "metadata": {},
   "outputs": [
    {
     "data": {
      "text/html": [
       "\n",
       "        <iframe\n",
       "            width=\"500px\"\n",
       "            height=\"500px\"\n",
       "            src=\"tmp.fig06.html\"\n",
       "            frameborder=\"0\"\n",
       "            allowfullscreen\n",
       "            \n",
       "        ></iframe>\n",
       "        "
      ],
      "text/plain": [
       "<IPython.lib.display.IFrame at 0x2b19d0af0>"
      ]
     },
     "execution_count": 69,
     "metadata": {},
     "output_type": "execute_result"
    }
   ],
   "source": [
    "pyvis_graph = kg.visualize_query(sparql, notebook=True)\n",
    "\n",
    "pyvis_graph.force_atlas_2based()\n",
    "pyvis_graph.show(\"tmp.fig06.html\")"
   ]
  },
  {
   "cell_type": "markdown",
   "metadata": {},
   "source": []
  }
 ],
 "metadata": {
  "interpreter": {
   "hash": "e24addbd1c21af059ce21653e18ac38406b3fe69eeb60448b8d4120b64cb5797"
  },
  "kernelspec": {
   "display_name": "Python 3.9.10 ('venv': venv)",
   "language": "python",
   "name": "python3"
  },
  "language_info": {
   "codemirror_mode": {
    "name": "ipython",
    "version": 3
   },
   "file_extension": ".py",
   "mimetype": "text/x-python",
   "name": "python",
   "nbconvert_exporter": "python",
   "pygments_lexer": "ipython3",
   "version": "3.9.10"
  },
  "orig_nbformat": 4
 },
 "nbformat": 4,
 "nbformat_minor": 2
}
