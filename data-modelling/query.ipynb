{
 "cells": [
  {
   "cell_type": "code",
   "execution_count": 5,
   "metadata": {},
   "outputs": [
    {
     "data": {
      "text/plain": [
       "<kglab.kglab.KnowledgeGraph at 0x16c321040>"
      ]
     },
     "execution_count": 5,
     "metadata": {},
     "output_type": "execute_result"
    }
   ],
   "source": [
    "import kglab\n",
    "\n",
    "namespaces = {\n",
    "    \"schema\":  \"http://schema.org/#\"\n",
    "    }\n",
    "\n",
    "kg = kglab.KnowledgeGraph(\n",
    "    name = \"A recipe KG example based on Food.com\",\n",
    "    base_uri = \"\",\n",
    "    namespaces = namespaces,\n",
    "    )\n",
    "\n",
    "kg.load_rdf(\"rdf-triples.ttl\")"
   ]
  },
  {
   "cell_type": "code",
   "execution_count": 6,
   "metadata": {},
   "outputs": [],
   "source": [
    "sparql = \"\"\"\n",
    "    SELECT ?author\n",
    "    WHERE {\n",
    "        ?author schema:author ?author .\n",
    "    }\n",
    "    ORDER BY DESC(?author)\n",
    "\"\"\""
   ]
  },
  {
   "cell_type": "code",
   "execution_count": 12,
   "metadata": {},
   "outputs": [],
   "source": [
    "sparql = \"\"\"\n",
    "    SELECT ?author ?name ?isbn\n",
    "    WHERE {\n",
    "        ?author schema:author \"Rita Mae Brown\" .\n",
    "    }\n",
    "    ORDER BY DESC(?author)\n",
    "\"\"\""
   ]
  },
  {
   "cell_type": "code",
   "execution_count": 13,
   "metadata": {},
   "outputs": [
    {
     "name": "stdout",
     "output_type": "stream",
     "text": [
      "                       author\n",
      "0    <http://example.com/444>\n",
      "1   <http://example.com/3072>\n",
      "2   <http://example.com/3071>\n",
      "3   <http://example.com/3070>\n",
      "4   <http://example.com/3066>\n",
      "5   <http://example.com/2962>\n",
      "6   <http://example.com/2695>\n",
      "7   <http://example.com/2498>\n",
      "8   <http://example.com/2497>\n",
      "9   <http://example.com/2496>\n",
      "10  <http://example.com/2476>\n",
      "11  <http://example.com/2475>\n",
      "12  <http://example.com/2474>\n",
      "13  <http://example.com/2412>\n",
      "14  <http://example.com/2066>\n",
      "15  <http://example.com/2037>\n",
      "16  <http://example.com/1168>\n",
      "17  <http://example.com/1094>\n"
     ]
    }
   ],
   "source": [
    "import pandas as pd\n",
    "#pd.set_option(\"max_rows\", None)\n",
    "\n",
    "df = kg.query_as_df(sparql)\n",
    "df.head(20)\n",
    "print(df)"
   ]
  },
  {
   "cell_type": "code",
   "execution_count": 14,
   "metadata": {},
   "outputs": [
    {
     "data": {
      "text/html": [
       "\n",
       "        <iframe\n",
       "            width=\"500px\"\n",
       "            height=\"500px\"\n",
       "            src=\"tmp.fig06.html\"\n",
       "            frameborder=\"0\"\n",
       "            allowfullscreen\n",
       "            \n",
       "        ></iframe>\n",
       "        "
      ],
      "text/plain": [
       "<IPython.lib.display.IFrame at 0x164f134f0>"
      ]
     },
     "execution_count": 14,
     "metadata": {},
     "output_type": "execute_result"
    }
   ],
   "source": [
    "pyvis_graph = kg.visualize_query(sparql, notebook=True)\n",
    "\n",
    "pyvis_graph.force_atlas_2based()\n",
    "pyvis_graph.show(\"tmp.fig06.html\")"
   ]
  },
  {
   "cell_type": "markdown",
   "metadata": {},
   "source": []
  }
 ],
 "metadata": {
  "interpreter": {
   "hash": "e24addbd1c21af059ce21653e18ac38406b3fe69eeb60448b8d4120b64cb5797"
  },
  "kernelspec": {
   "display_name": "Python 3.9.10 ('venv': venv)",
   "language": "python",
   "name": "python3"
  },
  "language_info": {
   "codemirror_mode": {
    "name": "ipython",
    "version": 3
   },
   "file_extension": ".py",
   "mimetype": "text/x-python",
   "name": "python",
   "nbconvert_exporter": "python",
   "pygments_lexer": "ipython3",
   "version": "3.9.10"
  },
  "orig_nbformat": 4
 },
 "nbformat": 4,
 "nbformat_minor": 2
}
