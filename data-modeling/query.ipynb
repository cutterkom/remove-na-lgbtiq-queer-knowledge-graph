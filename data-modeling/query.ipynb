{
 "cells": [
  {
   "cell_type": "code",
   "execution_count": 47,
   "metadata": {},
   "outputs": [
    {
     "data": {
      "text/plain": [
       "<kglab.kglab.KnowledgeGraph at 0x28bf1b730>"
      ]
     },
     "execution_count": 47,
     "metadata": {},
     "output_type": "execute_result"
    }
   ],
   "source": [
    "import kglab\n",
    "\n",
    "namespaces = {\n",
    "    \"schema\":  \"http://schema.org/#\"\n",
    "    }\n",
    "\n",
    "kg = kglab.KnowledgeGraph(\n",
    "    name = \"A recipe KG example based on Food.com\",\n",
    "    base_uri = \"\",\n",
    "    namespaces = namespaces,\n",
    "    )\n",
    "\n",
    "kg.load_rdf(\"output/kg_v1.ttl\")"
   ]
  },
  {
   "cell_type": "code",
   "execution_count": 20,
   "metadata": {},
   "outputs": [],
   "source": [
    "# sparql = \"\"\"\n",
    "#     SELECT ?author \n",
    "#     WHERE {\n",
    "#         ?Author schema:author ?name.\n",
    "#     }\n",
    "#     ORDER BY DESC(?author)\n",
    "# \"\"\"\n",
    "\n",
    "\n"
   ]
  },
  {
   "cell_type": "code",
   "execution_count": 26,
   "metadata": {},
   "outputs": [],
   "source": [
    "import pandas as pd\n",
    "from icecream import ic"
   ]
  },
  {
   "cell_type": "markdown",
   "metadata": {},
   "source": [
    "Alle Triples, die vorhanden sind:"
   ]
  },
  {
   "cell_type": "code",
   "execution_count": 48,
   "metadata": {},
   "outputs": [
    {
     "name": "stdout",
     "output_type": "stream",
     "text": [
      "                 pred                                                obj  \\\n",
      "0  schema:description      on_view-videoproduction_to V_M_M_C_AK_Uferlos   \n",
      "1  schema:description  Den §175 ersatzlos streichen - jetzt? Podiumsd...   \n",
      "2            rdf:type                                        schema:Book   \n",
      "3       schema:author                        <http://example.com/er_213>   \n",
      "4         schema:isbn                                      9783803112804   \n",
      "5  schema:description  Frauenleben 40 Jahre BRD. Filme. Sonja Ziemann...   \n",
      "6       schema:author                                     Edition Perlon   \n",
      "7         schema:isbn                                         376643103X   \n",
      "8       schema:author                        <http://example.com/er_390>   \n",
      "9            rdf:type                                      schema:Poster   \n",
      "\n",
      "                                       sub  \n",
      "0          <http://example.com/poster/889>  \n",
      "1         <http://example.com/poster/1041>  \n",
      "2            <http://example.com/book/497>  \n",
      "3          <http://example.com/poster/153>  \n",
      "4           <http://example.com/book/3519>  \n",
      "5           <http://example.com/poster/14>  \n",
      "6  <http://example.com/book_publisher_605>  \n",
      "7           <http://example.com/book/2059>  \n",
      "8          <http://example.com/poster/976>  \n",
      "9          <http://example.com/poster/639>  \n"
     ]
    }
   ],
   "source": [
    "\n",
    "\n",
    "sparql = \"\"\"\n",
    "PREFIX rdf: <http://www.w3.org/1999/02/22-rdf-syntax-ns#>\n",
    "PREFIX rdfs: <http://www.w3.org/2000/01/rdf-schema#>\n",
    "SELECT * WHERE {\n",
    "  ?sub ?pred ?obj .\n",
    "} LIMIT 10\n",
    "\"\"\"\n",
    "\n",
    "df = kg.query_as_df(sparql)\n",
    "df.head(20)\n",
    "print(df)\n",
    "\n",
    "\n"
   ]
  },
  {
   "cell_type": "markdown",
   "metadata": {},
   "source": [
    "Autoren mit allen Büchern, die sie geschrieben haben"
   ]
  },
  {
   "cell_type": "code",
   "execution_count": 51,
   "metadata": {},
   "outputs": [
    {
     "name": "stdout",
     "output_type": "stream",
     "text": [
      "                                    author  \\\n",
      "0     <http://example.com/book_author_746>   \n",
      "1    <http://example.com/book_publisher_1>   \n",
      "2   <http://example.com/book_publisher_10>   \n",
      "3  <http://example.com/book_publisher_100>   \n",
      "4  <http://example.com/book_publisher_101>   \n",
      "5  <http://example.com/book_publisher_102>   \n",
      "6  <http://example.com/book_publisher_103>   \n",
      "7  <http://example.com/book_publisher_105>   \n",
      "8  <http://example.com/book_publisher_106>   \n",
      "9  <http://example.com/book_publisher_107>   \n",
      "\n",
      "                                  author_name  \n",
      "0  Donatien Alphonse Francois Marquis de Sade  \n",
      "1                               Joseph Melzer  \n",
      "2                               Ulrike Helmer  \n",
      "3                                      Herder  \n",
      "4                                        Econ  \n",
      "5                                   Max Spohr  \n",
      "6                                   Wagenbach  \n",
      "7                               Wilhelm Heyne  \n",
      "8                                      Ludwig  \n",
      "9                                 Luchterhand  \n"
     ]
    }
   ],
   "source": [
    "sparql = \"\"\"\n",
    "-- SELECT ?author ?author_name ?book\n",
    "SELECT DISTINCT ?author \n",
    "  WHERE {\n",
    "\n",
    "  ?author rdf:type schema:Author .\n",
    "  ?author schema:author ?author_name \n",
    "  ?book rdf:type schema:Book .\n",
    "} LIMIT 10\n",
    "\"\"\"\n",
    "\n",
    "sparql = \"\"\"\n",
    "SELECT DISTINCT ?author ?author_name \n",
    "  WHERE {\n",
    "\n",
    "  ?author rdf:type schema:Author .\n",
    "  ?author schema:author ?author_name \n",
    "\n",
    "\n",
    "} LIMIT 10\n",
    "\"\"\"\n",
    "\n",
    "df = kg.query_as_df(sparql)\n",
    "df.head(20)\n",
    "print(df)\n"
   ]
  },
  {
   "cell_type": "code",
   "execution_count": 39,
   "metadata": {},
   "outputs": [],
   "source": [
    "sparql = \"\"\"\n",
    "    SELECT ?author ?name ?isbn\n",
    "    WHERE {\n",
    "        ?author schema:author \"Rita Mae Brown\" .\n",
    "    }\n",
    "    ORDER BY DESC(?author)\n",
    "\"\"\""
   ]
  },
  {
   "cell_type": "code",
   "execution_count": 14,
   "metadata": {},
   "outputs": [
    {
     "data": {
      "text/html": [
       "\n",
       "        <iframe\n",
       "            width=\"500px\"\n",
       "            height=\"500px\"\n",
       "            src=\"tmp.fig06.html\"\n",
       "            frameborder=\"0\"\n",
       "            allowfullscreen\n",
       "            \n",
       "        ></iframe>\n",
       "        "
      ],
      "text/plain": [
       "<IPython.lib.display.IFrame at 0x164f134f0>"
      ]
     },
     "execution_count": 14,
     "metadata": {},
     "output_type": "execute_result"
    }
   ],
   "source": [
    "pyvis_graph = kg.visualize_query(sparql, notebook=True)\n",
    "\n",
    "pyvis_graph.force_atlas_2based()\n",
    "pyvis_graph.show(\"tmp.fig06.html\")"
   ]
  },
  {
   "cell_type": "markdown",
   "metadata": {},
   "source": []
  }
 ],
 "metadata": {
  "interpreter": {
   "hash": "e24addbd1c21af059ce21653e18ac38406b3fe69eeb60448b8d4120b64cb5797"
  },
  "kernelspec": {
   "display_name": "Python 3.9.10 ('venv': venv)",
   "language": "python",
   "name": "python3"
  },
  "language_info": {
   "codemirror_mode": {
    "name": "ipython",
    "version": 3
   },
   "file_extension": ".py",
   "mimetype": "text/x-python",
   "name": "python",
   "nbconvert_exporter": "python",
   "pygments_lexer": "ipython3",
   "version": "3.9.10"
  },
  "orig_nbformat": 4
 },
 "nbformat": 4,
 "nbformat_minor": 2
}
